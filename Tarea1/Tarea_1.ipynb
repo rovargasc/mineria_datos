{
 "cells": [
  {
   "cell_type": "markdown",
   "id": "49d0971e-d195-4d4f-a0c3-2575591b09ba",
   "metadata": {},
   "source": [
    "# Tarea 1: Minería de datos\n",
    "Estudiante: Rosmer Vargas CC:1092015057"
   ]
  },
  {
   "cell_type": "markdown",
   "id": "acd21adf-4f6c-4fb3-8413-e0d5be4310da",
   "metadata": {},
   "source": [
    "## Parte 1: Contenido $LaTex$"
   ]
  },
  {
   "cell_type": "markdown",
   "id": "aadfe9fe-6b20-41d3-b9c9-ecfd869f61f4",
   "metadata": {},
   "source": [
    "Consideremos un modelo de regresión dado por la siguiente ecuación:\n",
    "    $$\\hat{y}_i= \\beta_0 + \\beta_1x_i$$\n",
    "    \n",
    " Donde:\n",
    " \n",
    " * $\\hat{y}_i$ Representa la estimación del i-ésimo individuo\n",
    " * $\\beta_0$ Representa la estimación cuando $x=0$\n",
    " * $\\beta_1$ Representa la pendiente en que aumenta (disminuye) la variable respuesta ante un aumento (disminución) de $x$."
   ]
  },
  {
   "cell_type": "markdown",
   "id": "baaf1d83-b306-4611-80e5-bf52a5bccb19",
   "metadata": {},
   "source": [
    "## Parte 2: Un poco de código de Python..."
   ]
  },
  {
   "cell_type": "code",
   "execution_count": 6,
   "id": "e2b31a54-313b-4ba7-9e1a-a602cc461640",
   "metadata": {},
   "outputs": [],
   "source": [
    "import matplotlib.pyplot as plt\n",
    "import numpy as np\n",
    "# Inventemos unos datos..."
   ]
  },
  {
   "cell_type": "code",
   "execution_count": 25,
   "id": "ecd16efc-c640-4bff-9a24-0bc355d24134",
   "metadata": {},
   "outputs": [
    {
     "data": {
      "image/png": "[encoded data removed]",
      "text/plain": [
       "<Figure size 504x504 with 1 Axes>"
      ]
     },
     "metadata": {
      "needs_background": "light"
     },
     "output_type": "display_data"
    }
   ],
   "source": [
    "np.random.seed(1004)  # Genero una semilla aleatoria para que sea reproducible\n",
    "x = np.random.normal(loc = 50, scale = 5, size = 100)\n",
    "y = 20 + 3*x + np.random.normal(loc = 0, scale = 15, size = 100)\n",
    "\n",
    "plt.figure(figsize = (7,7))\n",
    "plt.scatter(x,y)\n",
    "plt.title(\"X vs Y\", fontdict = {\"fontsize\":14,\"fontweight\":\"bold\", \"color\":\"blue\"})\n",
    "plt.show()"
   ]
  },
  {
   "cell_type": "markdown",
   "id": "4662dd43-d131-4bb6-aaa5-e9b668c79662",
   "metadata": {},
   "source": [
    "## Parte 3: Enlaces a imágenes y videos"
   ]
  },
  {
   "cell_type": "markdown",
   "id": "edb24d26-1d9b-4ab6-9c0f-888a39977f05",
   "metadata": {},
   "source": [
    "Podemos añadir imágenes y videos"
   ]
  },
  {
   "cell_type": "code",
   "execution_count": 26,
   "id": "4e2ec290-d284-4707-b868-e0bf30e27ed9",
   "metadata": {},
   "outputs": [
    {
     "data": {
      "text/html": [
       "<video src=\"https://drive.google.com/uc?export=view&id=1fgAjTaSb5hGEIFnV7rDQdlV4kXogwjjK\" controls  >\n",
       "      Your browser does not support the <code>video</code> element.\n",
       "    </video>"
      ],
      "text/plain": [
       "<IPython.core.display.Video object>"
      ]
     },
     "execution_count": 26,
     "metadata": {},
     "output_type": "execute_result"
    }
   ],
   "source": [
    "from IPython.display import Video\n",
    "Video(\"https://drive.google.com/uc?export=view&id=1fgAjTaSb5hGEIFnV7rDQdlV4kXogwjjK\")"
   ]
  },
  {
   "cell_type": "markdown",
   "id": "df68bdfb-32bb-4e29-8487-87dd7f46625d",
   "metadata": {},
   "source": [
    "De igual manerea podemos añadir imágenes\n",
    "![Google Drive Image](https://drive.google.com/uc?export=view&id=18h8kFxj1GciLEsvGMipzgo_hvRgJaR3S)\n",
    "\n"
   ]
  }
 ],
 "metadata": {
  "kernelspec": {
   "display_name": "Python 3 (ipykernel)",
   "language": "python",
   "name": "python3"
  },
  "language_info": {
   "codemirror_mode": {
    "name": "ipython",
    "version": 3
   },
   "file_extension": ".py",
   "mimetype": "text/x-python",
   "name": "python",
   "nbconvert_exporter": "python",
   "pygments_lexer": "ipython3",
   "version": "3.10.5"
  }
 },
 "nbformat": 4,
 "nbformat_minor": 5
}
